{
 "cells": [
  {
   "cell_type": "code",
   "execution_count": 3,
   "id": "c4b1bbff-c496-4976-956f-70141d7552d0",
   "metadata": {
    "tags": []
   },
   "outputs": [],
   "source": [
    "import json\n",
    "import boto3\n",
    "\n",
    "def invoke_model(client, prompt, model, \n",
    "    accept = 'application/json', content_type = 'application/json',\n",
    "    max_tokens  = 512, temperature = 1.0, top_p = 1.0, top_k = 250, stop_sequences = [],\n",
    "    count_penalty = 0, presence_penalty = 0, frequency_penalty = 0, return_likelihoods = 'NONE'):\n",
    "    # default response\n",
    "    output = ''\n",
    "    # identify the model provider\n",
    "    provider = model.split('.')[0] \n",
    "    # InvokeModel\n",
    "    if (provider == 'anthropic'): \n",
    "        input = {\n",
    "            'prompt': prompt,\n",
    "            'max_tokens_to_sample': max_tokens, \n",
    "            'temperature': temperature,\n",
    "            'top_k': top_k,\n",
    "            'top_p': top_p,\n",
    "            'stop_sequences': stop_sequences\n",
    "        }\n",
    "        body=json.dumps(input)\n",
    "        response = bedrock.invoke_model(body=body, modelId=model, accept=accept,contentType=content_type)\n",
    "        response_body = json.loads(response.get('body').read())\n",
    "        output = response_body['completion']\n",
    "    elif (provider == 'ai21'): \n",
    "        input = {\n",
    "            'prompt': prompt, \n",
    "            'maxTokens': max_tokens,\n",
    "            'temperature': temperature,\n",
    "            'topP': top_p,\n",
    "            'stopSequences': stop_sequences,\n",
    "            'countPenalty': {'scale': count_penalty},\n",
    "            'presencePenalty': {'scale': presence_penalty},\n",
    "            'frequencyPenalty': {'scale': frequency_penalty}\n",
    "        }\n",
    "        body=json.dumps(input)\n",
    "        response = bedrock.invoke_model(body=body, modelId=model, accept=accept,contentType=content_type)\n",
    "        response_body = json.loads(response.get('body').read())\n",
    "        completions = response_body['completions']\n",
    "        for part in completions:\n",
    "            output = output + part['data']['text']\n",
    "    elif (provider == 'amazon'): \n",
    "        input = {\n",
    "            'inputText': prompt,\n",
    "            'textGenerationConfig': {\n",
    "                  'maxTokenCount': max_tokens,\n",
    "                  'stopSequences': stop_sequences,\n",
    "                  'temperature': temperature,\n",
    "                  'topP': top_p\n",
    "            }\n",
    "        }\n",
    "        body=json.dumps(input)\n",
    "        response = bedrock.invoke_model(body=body, modelId=model, accept=accept,contentType=content_type)\n",
    "        response_body = json.loads(response.get('body').read())\n",
    "        results = response_body['results']\n",
    "        for result in results:\n",
    "            output = output + result['outputText']\n",
    "    elif (provider == 'cohere'): \n",
    "        input = {\n",
    "            'prompt': prompt, \n",
    "            'max_tokens': max_tokens,\n",
    "            'temperature': temperature,\n",
    "            'k': top_k,\n",
    "            'p': top_p,\n",
    "            'stop_sequences': stop_sequences,\n",
    "            'return_likelihoods': return_likelihoods\n",
    "        }\n",
    "        body=json.dumps(input)\n",
    "        response = bedrock.invoke_model(body=body, modelId=model, accept=accept,contentType=content_type)\n",
    "        response_body = json.loads(response.get('body').read())\n",
    "        results = response_body['generations']\n",
    "        for result in results:\n",
    "            output = output + result['text']\n",
    "    elif (provider == 'meta'): \n",
    "        input = {\n",
    "            'prompt': prompt,\n",
    "            'max_gen_len': max_tokens,\n",
    "            'temperature': temperature,\n",
    "            'top_p': top_p\n",
    "        }\n",
    "        body=json.dumps(input)\n",
    "        response = bedrock.invoke_model(body=body, modelId=model, accept=accept,contentType=content_type)\n",
    "        response_body = json.loads(response.get('body').read())\n",
    "        output = response_body['generation']\n",
    "    # return\n",
    "    return output\n",
    "\n"
   ]
  },
  {
   "cell_type": "code",
   "execution_count": 4,
   "id": "881915a8-24d0-4c64-9dfc-ea003c9426f6",
   "metadata": {
    "tags": []
   },
   "outputs": [
    {
     "name": "stdout",
     "output_type": "stream",
     "text": [
      " Here is a 2 paragraph explanation of how chickens swim for an 8 year old:\n",
      "\n",
      "Chickens are funny birds that don't fly very well. But did you know chickens can swim? Even though they don't have webbed feet like ducks, chickens are still pretty good swimmers. \n",
      "\n",
      "When a chicken wants to swim, it will walk into the water slowly. As it gets deeper, the chicken will start flapping its wings and kicking its legs. This helps the chicken stay on top of the water and not sink to the bottom. The chicken's light body and fluffy feathers help it float. Chickens will paddle around using their wings to steer. They look pretty silly swimming! While chickens can swim if they need to, they usually prefer to stay on dry land. They only swim when they accidentally fall into water. Chickens are more comfortable walking and pecking on the ground than swimming.\n"
     ]
    }
   ],
   "source": [
    "# main function\n",
    "bedrock = boto3.client(\n",
    "    service_name='bedrock-runtime'\n",
    ")\n",
    "model  = 'anthropic.claude-v2'\n",
    "prompt = \"\"\"\n",
    "\n",
    "Human: Explain how chicken swim to an 8 year old using 2 paragraphs.\n",
    "\n",
    "Assistant:\n",
    "\"\"\"\n",
    "output = invoke_model(client=bedrock, prompt=prompt, model=model)\n",
    "print(output)\n"
   ]
  },
  {
   "cell_type": "code",
   "execution_count": 5,
   "id": "16b3bdb3-6374-4869-a854-bee83a36ac96",
   "metadata": {
    "tags": []
   },
   "outputs": [
    {
     "name": "stdout",
     "output_type": "stream",
     "text": [
      " Of course! \n",
      "\n",
      "We have a saying - a chicken that doesn't scratch can cross the ocean,  it's about life preservation.\n",
      "\n",
      "Swimming and flying (more like gliding) is considered a defence mechanism when necessary and it's actually considered an evolutionary advancement.\n",
      "\n",
      "Basically all chickens can do it as it is a survival skill and necessary to protect their young. They have very fast adaptations so if their wetland is under threat they can adapt to survive. Some lost colonists,  like a group called the Ancon chicken have even reached the Galapagos island and learnt how to swim and even dive deep to find food.\n",
      "\n",
      "They stick their head and neck (the extended head) in the water to look for food, not fish, as they're terrible hunters. The chickens who can swim well, in that way resemble and behave like moorhens who dive. \n",
      "\n",
      "In a world where they're on the menu of the fox and hawk - chickens and their young are under constant threat of becoming a tasty meal, especially if they can't run or fly away very fast. Using waterways for escape is also an option, The fox is pretty bad at swimming. \n",
      "\n",
      "If they got an upset neighbour or predator, they'll need to look for downstream waters to escape to. Some chickens might be good at taking off and fly to safety, but most are like us in that we are far from Olympic swimmers...but just like us, they have different strengths. \n",
      "\n",
      "\n",
      "However, if you’re still interested to learn more about how and why chickens swim, where they tend to appear and which chicken is the king in swimming, here are a few resources.\n",
      "\n",
      "Since chickens do not have a layer of subcutaneous fat like many mammals, they find it difficult to repel water from their feathers. Given this it will try and paddle in a jerky and erratic movement to try and stay above water, making it look panicked. It is likely that they would have got into a situation where it was forced to swim, most likely to escape from predators. It is difficult for a chicken to swim for a long time without resting, especially if they're heavy. \n",
      "\n",
      "I hope this makes swimming a bit clearer for you. If you’d like to ask anything more then please do ask – I’ll do my utmost best to explain things in such a way that a brave kid as yourself would understand.\n",
      "\n"
     ]
    }
   ],
   "source": [
    "# main function\n",
    "bedrock = boto3.client(\n",
    "    service_name='bedrock-runtime'\n",
    ")\n",
    "model  = 'cohere.command-text-v14'\n",
    "prompt = \"\"\"\n",
    "\n",
    "Human: Explain how chicken swim to an 8 year old using 2 paragraphs.\n",
    "\n",
    "Assistant:\n",
    "\"\"\"\n",
    "output = invoke_model(client=bedrock, prompt=prompt, model=model)\n",
    "print(output)\n"
   ]
  },
  {
   "cell_type": "code",
   "execution_count": 6,
   "id": "0a2de7d6-6e5e-4570-8cc4-373f97a16352",
   "metadata": {
    "tags": []
   },
   "outputs": [
    {
     "name": "stdout",
     "output_type": "stream",
     "text": [
      "Chickens swim by kicking their legs and using their webbed feet to paddle through the water. They typically swim short distances, such as across a small pond or river. Chickens can also float on the surface of the water by spreading their wings and keeping them slightly raised. This helps them to stay afloat and conserve energy while they swim.\n",
      "\n",
      "Chickens typically avoid swimming if possible, as they are not strong swimmers and can easily become tired or drown. However, if they find themselves in a situation where swimming is necessary, such as to escape from a predator or to cross a body of water, they can rely on their webbed feet and wings to help them stay afloat and make their way across.\n"
     ]
    }
   ],
   "source": [
    "# main function\n",
    "bedrock = boto3.client(\n",
    "    service_name='bedrock-runtime'\n",
    ")\n",
    "model  = 'ai21.j2-ultra'\n",
    "prompt = \"\"\"\n",
    "\n",
    "Human: Explain how chicken swim to an 8 year old using 2 paragraphs.\n",
    "\n",
    "Assistant:\n",
    "\"\"\"\n",
    "output = invoke_model(client=bedrock, prompt=prompt, model=model, top_p = 0.8, temperature = 0.5, max_tokens = 250)\n",
    "print(output)\n"
   ]
  },
  {
   "cell_type": "code",
   "execution_count": 10,
   "id": "a50cb06e-f385-4681-ad0b-bb1b428173e7",
   "metadata": {
    "tags": []
   },
   "outputs": [
    {
     "name": "stdout",
     "output_type": "stream",
     "text": [
      "Dogs, cats, hamsters, and gerbils are some four legged pets.\n"
     ]
    }
   ],
   "source": [
    "# main function\n",
    "bedrock = boto3.client(\n",
    "    service_name='bedrock-runtime'\n",
    ")\n",
    "model  = 'ai21.j2-ultra'\n",
    "prompt = \"\"\"\n",
    "Human: Name a few house pets with 4 legs.\n",
    "Assistant:\n",
    "\"\"\"\n",
    "output = invoke_model(\n",
    "    client=bedrock, prompt=prompt, model=model, \n",
    "    temperature=0, top_p=1.0, max_tokens=512, stop_sequences=[])\n",
    "print(output)\n"
   ]
  },
  {
   "cell_type": "code",
   "execution_count": 11,
   "id": "9995375a-a0f2-47f0-a8b8-3c2c05293c64",
   "metadata": {
    "tags": []
   },
   "outputs": [
    {
     "name": "stdout",
     "output_type": "stream",
     "text": [
      "Some house pets with four legs are dogs, cats, and hamsters.\n"
     ]
    }
   ],
   "source": [
    "output = invoke_model(\n",
    "    client=bedrock, prompt=prompt, model=model, \n",
    "    temperature=1.0, top_p=1.0, max_tokens=512, stop_sequences=[])\n",
    "print(output)"
   ]
  },
  {
   "cell_type": "code",
   "execution_count": 12,
   "id": "ae3b49ae-b7b6-4341-9cff-eb6a537937d3",
   "metadata": {
    "tags": []
   },
   "outputs": [
    {
     "name": "stdout",
     "output_type": "stream",
     "text": [
      " Here are some common house pets with 4 legs:\n",
      "\n",
      "- Dogs\n",
      "- Cats \n",
      "- Rabbits\n",
      "- Guinea pigs\n",
      "- Hamsters\n",
      "- Ferrets\n",
      "- Chinchillas\n",
      "- Gerbils\n",
      "- Rats\n",
      "- Mice\n",
      "- Turtles\n",
      "- Tortoises\n",
      "- Lizards\n",
      "- Snakes\n",
      "- Frogs\n",
      "- Geckos\n",
      "- Iguanas\n",
      "- Chameleons\n",
      "- Bearded dragons\n",
      "- Chickens\n",
      "- Ducks\n",
      "\n",
      "The most popular 4-legged house pets are dogs and cats, but small mammals like rabbits, guinea pigs, and hamsters are also quite common. Reptiles and amphibians like turtles, lizards, and frogs can make interesting pets too.\n"
     ]
    }
   ],
   "source": [
    "# main function\n",
    "bedrock = boto3.client(\n",
    "    service_name='bedrock-runtime'\n",
    ")\n",
    "model  = 'anthropic.claude-v2'\n",
    "prompt = \"\"\"\n",
    "\n",
    "Human: Name a few house pets with 4 legs.\n",
    "\n",
    "Assistant:\n",
    "\"\"\"\n",
    "output = invoke_model(\n",
    "    client=bedrock, prompt=prompt, model=model, temperature=1.0, top_p=1.0, top_k=250)\n",
    "print(output)\n"
   ]
  },
  {
   "cell_type": "code",
   "execution_count": 14,
   "id": "caab470e-231b-4bce-9a26-e991a1b1fb4d",
   "metadata": {
    "tags": []
   },
   "outputs": [
    {
     "name": "stdout",
     "output_type": "stream",
     "text": [
      "A spider is \n",
      "a small animal with eight legs that catches insects for food\n",
      "and builds webs to catch insects\n"
     ]
    }
   ],
   "source": [
    "# main function\n",
    "# In this example, we ask for a response without any examples on the expected response. In prompt engineering, this is referred to as zero-shot prompting.\n",
    "bedrock = boto3.client(\n",
    "    service_name='bedrock-runtime'\n",
    ")\n",
    "model  = 'ai21.j2-ultra'\n",
    "prompt = \"\"\"\n",
    "A spider \n",
    "\"\"\"\n",
    "output = invoke_model(client=bedrock, prompt=prompt, model=model)\n",
    "print(output)\n"
   ]
  },
  {
   "cell_type": "code",
   "execution_count": 17,
   "id": "ba32d322-129b-4b68-b8d3-9154f9e6b891",
   "metadata": {
    "tags": []
   },
   "outputs": [
    {
     "name": "stdout",
     "output_type": "stream",
     "text": [
      "Spiders do not have four legs. They have eight legs.\n"
     ]
    }
   ],
   "source": [
    "\"\"\"\n",
    "Few-shot prompting means you ask for a response with a few examples on the expected response. Here is an example of few-shot prompting. \n",
    "The first two lines in the prompt are complete sentences with the same structure, both talking about the number of legs. \n",
    "The third line in the prompt is incomplete. This hints the foundation model to complete the third sentence with a similar structure.\n",
    "\"\"\"\n",
    "bedrock = boto3.client(\n",
    "    service_name='bedrock-runtime'\n",
    ")\n",
    "model  = 'ai21.j2-ultra'\n",
    "prompt = \"\"\"\n",
    "A dog has 4 legs.\n",
    "A sheep has 4 legs.\n",
    "A spider\n",
    "\"\"\"\n",
    "\n",
    "output = invoke_model(client=bedrock, prompt=prompt, model=model)\n",
    "print(output)"
   ]
  },
  {
   "cell_type": "code",
   "execution_count": 18,
   "id": "a6f3176d-3476-4a72-9222-058969873989",
   "metadata": {
    "tags": []
   },
   "outputs": [
    {
     "name": "stdout",
     "output_type": "stream",
     "text": [
      "Negative\n"
     ]
    }
   ],
   "source": [
    "'''\n",
    "Here is another example of few-shot prompting. The first three lines in the prompt have the same structure - \n",
    "a complete sentence followed by “//” and a sentiment associated with the sentence. The last line is a complete sentence, \n",
    "followed by “//” but without a sentiment. This hints the LLM to infer the sentiment associated with the sentence.\n",
    "'''\n",
    "\n",
    "bedrock = boto3.client(\n",
    "    service_name='bedrock-runtime'\n",
    ")\n",
    "model  = 'ai21.j2-ultra'\n",
    "prompt = \"\"\"\n",
    "This is awesome! // Positive\n",
    "This is bad! // Negative\n",
    "Wow that movie was rad! // Positive\n",
    "What a horrible show! //\n",
    "\"\"\"\n",
    "\n",
    "\n",
    "output = invoke_model(client=bedrock, prompt=prompt, model=model)\n",
    "print(output)"
   ]
  },
  {
   "cell_type": "code",
   "execution_count": 19,
   "id": "6d503cf7-6924-4092-b01d-6cfd472cc097",
   "metadata": {
    "tags": []
   },
   "outputs": [
    {
     "name": "stdout",
     "output_type": "stream",
     "text": [
      "Muchas gracias.\n",
      "¡Hola!\n",
      "Esta información es útil.\n",
      "Muchas gracias.\n"
     ]
    }
   ],
   "source": [
    "bedrock = boto3.client(\n",
    "    service_name='bedrock-runtime'\n",
    ")\n",
    "model  = 'ai21.j2-ultra'\n",
    "prompt = \"\"\"\n",
    "### Instruction ###\n",
    "Translate the text below to Spanish:\n",
    "### Text ###\n",
    "Hello.\n",
    "This information is useful.\n",
    "\"\"\"\n",
    "\n",
    "\n",
    "output = invoke_model(client=bedrock, prompt=prompt, model=model)\n",
    "print(output)"
   ]
  },
  {
   "cell_type": "code",
   "execution_count": 20,
   "id": "ec45053a-5826-4ffb-b4da-ec808f254525",
   "metadata": {
    "tags": []
   },
   "outputs": [
    {
     "name": "stdout",
     "output_type": "stream",
     "text": [
      "Hola.\n",
      "Esta información es de utilidad.\n"
     ]
    }
   ],
   "source": [
    "bedrock = boto3.client(\n",
    "    service_name='bedrock-runtime'\n",
    ")\n",
    "model  = 'ai21.j2-ultra'\n",
    "prompt = \"\"\"\n",
    "Translate the text below to Spanish:\n",
    "Hello.\n",
    "This information is useful.\n",
    "\"\"\"\n",
    "\n",
    "\n",
    "\n",
    "output = invoke_model(client=bedrock, prompt=prompt, model=model)\n",
    "print(output)"
   ]
  },
  {
   "cell_type": "code",
   "execution_count": 23,
   "id": "f4faae5c-4651-415e-b1d9-e2279d288e5a",
   "metadata": {
    "tags": []
   },
   "outputs": [
    {
     "name": "stdout",
     "output_type": "stream",
     "text": [
      "• The Grounds of Alexandria\n",
      "• The Calyx at the Australian Botanic Garden\n",
      "• The Kawaii Monster Cafe in Harajuku\n"
     ]
    }
   ],
   "source": [
    "bedrock = boto3.client(\n",
    "    service_name='bedrock-runtime'\n",
    ")\n",
    "model  = 'ai21.j2-ultra'\n",
    "# Prompt 1\n",
    "prompt = \"\"\"\n",
    "Recommend some creative space to visit in Sydney. Don't include gallery or museums.\n",
    "\"\"\"\n",
    "\n",
    "\n",
    "\n",
    "output = invoke_model(client=bedrock, prompt=prompt, model=model)\n",
    "print(output)"
   ]
  },
  {
   "cell_type": "code",
   "execution_count": 24,
   "id": "d2c4e2a0-479a-4317-a209-a796781d239e",
   "metadata": {
    "tags": []
   },
   "outputs": [
    {
     "name": "stdout",
     "output_type": "stream",
     "text": [
      "Sure, During my recent visit to Sydney, I liked a great deal of the landmarks for art installations, lights projections; I'll explore The Rocks, Luna Park, CustomsHouse, Barangaroo Park, Barangaroo Reserve, which I would recommend too. These landmarks in Sydney known for their iconic lighting projections are impossible to ignore.\n"
     ]
    }
   ],
   "source": [
    "bedrock = boto3.client(\n",
    "    service_name='bedrock-runtime'\n",
    ")\n",
    "model  = 'ai21.j2-ultra'\n",
    "# Prompt 2\n",
    "prompt = \"\"\"\n",
    "Recommend some creative space to visit in Sydney. Exclude gallery and museums.\n",
    "\"\"\"\n",
    "\n",
    "\n",
    "\n",
    "\n",
    "output = invoke_model(client=bedrock, prompt=prompt, model=model)\n",
    "print(output)"
   ]
  },
  {
   "cell_type": "code",
   "execution_count": null,
   "id": "449e871a-868f-47f9-b0f5-8e0b13a0a3ef",
   "metadata": {},
   "outputs": [],
   "source": []
  }
 ],
 "metadata": {
  "availableInstances": [
   {
    "_defaultOrder": 0,
    "_isFastLaunch": true,
    "category": "General purpose",
    "gpuNum": 0,
    "hideHardwareSpecs": false,
    "memoryGiB": 4,
    "name": "ml.t3.medium",
    "vcpuNum": 2
   },
   {
    "_defaultOrder": 1,
    "_isFastLaunch": false,
    "category": "General purpose",
    "gpuNum": 0,
    "hideHardwareSpecs": false,
    "memoryGiB": 8,
    "name": "ml.t3.large",
    "vcpuNum": 2
   },
   {
    "_defaultOrder": 2,
    "_isFastLaunch": false,
    "category": "General purpose",
    "gpuNum": 0,
    "hideHardwareSpecs": false,
    "memoryGiB": 16,
    "name": "ml.t3.xlarge",
    "vcpuNum": 4
   },
   {
    "_defaultOrder": 3,
    "_isFastLaunch": false,
    "category": "General purpose",
    "gpuNum": 0,
    "hideHardwareSpecs": false,
    "memoryGiB": 32,
    "name": "ml.t3.2xlarge",
    "vcpuNum": 8
   },
   {
    "_defaultOrder": 4,
    "_isFastLaunch": true,
    "category": "General purpose",
    "gpuNum": 0,
    "hideHardwareSpecs": false,
    "memoryGiB": 8,
    "name": "ml.m5.large",
    "vcpuNum": 2
   },
   {
    "_defaultOrder": 5,
    "_isFastLaunch": false,
    "category": "General purpose",
    "gpuNum": 0,
    "hideHardwareSpecs": false,
    "memoryGiB": 16,
    "name": "ml.m5.xlarge",
    "vcpuNum": 4
   },
   {
    "_defaultOrder": 6,
    "_isFastLaunch": false,
    "category": "General purpose",
    "gpuNum": 0,
    "hideHardwareSpecs": false,
    "memoryGiB": 32,
    "name": "ml.m5.2xlarge",
    "vcpuNum": 8
   },
   {
    "_defaultOrder": 7,
    "_isFastLaunch": false,
    "category": "General purpose",
    "gpuNum": 0,
    "hideHardwareSpecs": false,
    "memoryGiB": 64,
    "name": "ml.m5.4xlarge",
    "vcpuNum": 16
   },
   {
    "_defaultOrder": 8,
    "_isFastLaunch": false,
    "category": "General purpose",
    "gpuNum": 0,
    "hideHardwareSpecs": false,
    "memoryGiB": 128,
    "name": "ml.m5.8xlarge",
    "vcpuNum": 32
   },
   {
    "_defaultOrder": 9,
    "_isFastLaunch": false,
    "category": "General purpose",
    "gpuNum": 0,
    "hideHardwareSpecs": false,
    "memoryGiB": 192,
    "name": "ml.m5.12xlarge",
    "vcpuNum": 48
   },
   {
    "_defaultOrder": 10,
    "_isFastLaunch": false,
    "category": "General purpose",
    "gpuNum": 0,
    "hideHardwareSpecs": false,
    "memoryGiB": 256,
    "name": "ml.m5.16xlarge",
    "vcpuNum": 64
   },
   {
    "_defaultOrder": 11,
    "_isFastLaunch": false,
    "category": "General purpose",
    "gpuNum": 0,
    "hideHardwareSpecs": false,
    "memoryGiB": 384,
    "name": "ml.m5.24xlarge",
    "vcpuNum": 96
   },
   {
    "_defaultOrder": 12,
    "_isFastLaunch": false,
    "category": "General purpose",
    "gpuNum": 0,
    "hideHardwareSpecs": false,
    "memoryGiB": 8,
    "name": "ml.m5d.large",
    "vcpuNum": 2
   },
   {
    "_defaultOrder": 13,
    "_isFastLaunch": false,
    "category": "General purpose",
    "gpuNum": 0,
    "hideHardwareSpecs": false,
    "memoryGiB": 16,
    "name": "ml.m5d.xlarge",
    "vcpuNum": 4
   },
   {
    "_defaultOrder": 14,
    "_isFastLaunch": false,
    "category": "General purpose",
    "gpuNum": 0,
    "hideHardwareSpecs": false,
    "memoryGiB": 32,
    "name": "ml.m5d.2xlarge",
    "vcpuNum": 8
   },
   {
    "_defaultOrder": 15,
    "_isFastLaunch": false,
    "category": "General purpose",
    "gpuNum": 0,
    "hideHardwareSpecs": false,
    "memoryGiB": 64,
    "name": "ml.m5d.4xlarge",
    "vcpuNum": 16
   },
   {
    "_defaultOrder": 16,
    "_isFastLaunch": false,
    "category": "General purpose",
    "gpuNum": 0,
    "hideHardwareSpecs": false,
    "memoryGiB": 128,
    "name": "ml.m5d.8xlarge",
    "vcpuNum": 32
   },
   {
    "_defaultOrder": 17,
    "_isFastLaunch": false,
    "category": "General purpose",
    "gpuNum": 0,
    "hideHardwareSpecs": false,
    "memoryGiB": 192,
    "name": "ml.m5d.12xlarge",
    "vcpuNum": 48
   },
   {
    "_defaultOrder": 18,
    "_isFastLaunch": false,
    "category": "General purpose",
    "gpuNum": 0,
    "hideHardwareSpecs": false,
    "memoryGiB": 256,
    "name": "ml.m5d.16xlarge",
    "vcpuNum": 64
   },
   {
    "_defaultOrder": 19,
    "_isFastLaunch": false,
    "category": "General purpose",
    "gpuNum": 0,
    "hideHardwareSpecs": false,
    "memoryGiB": 384,
    "name": "ml.m5d.24xlarge",
    "vcpuNum": 96
   },
   {
    "_defaultOrder": 20,
    "_isFastLaunch": false,
    "category": "General purpose",
    "gpuNum": 0,
    "hideHardwareSpecs": true,
    "memoryGiB": 0,
    "name": "ml.geospatial.interactive",
    "supportedImageNames": [
     "sagemaker-geospatial-v1-0"
    ],
    "vcpuNum": 0
   },
   {
    "_defaultOrder": 21,
    "_isFastLaunch": true,
    "category": "Compute optimized",
    "gpuNum": 0,
    "hideHardwareSpecs": false,
    "memoryGiB": 4,
    "name": "ml.c5.large",
    "vcpuNum": 2
   },
   {
    "_defaultOrder": 22,
    "_isFastLaunch": false,
    "category": "Compute optimized",
    "gpuNum": 0,
    "hideHardwareSpecs": false,
    "memoryGiB": 8,
    "name": "ml.c5.xlarge",
    "vcpuNum": 4
   },
   {
    "_defaultOrder": 23,
    "_isFastLaunch": false,
    "category": "Compute optimized",
    "gpuNum": 0,
    "hideHardwareSpecs": false,
    "memoryGiB": 16,
    "name": "ml.c5.2xlarge",
    "vcpuNum": 8
   },
   {
    "_defaultOrder": 24,
    "_isFastLaunch": false,
    "category": "Compute optimized",
    "gpuNum": 0,
    "hideHardwareSpecs": false,
    "memoryGiB": 32,
    "name": "ml.c5.4xlarge",
    "vcpuNum": 16
   },
   {
    "_defaultOrder": 25,
    "_isFastLaunch": false,
    "category": "Compute optimized",
    "gpuNum": 0,
    "hideHardwareSpecs": false,
    "memoryGiB": 72,
    "name": "ml.c5.9xlarge",
    "vcpuNum": 36
   },
   {
    "_defaultOrder": 26,
    "_isFastLaunch": false,
    "category": "Compute optimized",
    "gpuNum": 0,
    "hideHardwareSpecs": false,
    "memoryGiB": 96,
    "name": "ml.c5.12xlarge",
    "vcpuNum": 48
   },
   {
    "_defaultOrder": 27,
    "_isFastLaunch": false,
    "category": "Compute optimized",
    "gpuNum": 0,
    "hideHardwareSpecs": false,
    "memoryGiB": 144,
    "name": "ml.c5.18xlarge",
    "vcpuNum": 72
   },
   {
    "_defaultOrder": 28,
    "_isFastLaunch": false,
    "category": "Compute optimized",
    "gpuNum": 0,
    "hideHardwareSpecs": false,
    "memoryGiB": 192,
    "name": "ml.c5.24xlarge",
    "vcpuNum": 96
   },
   {
    "_defaultOrder": 29,
    "_isFastLaunch": true,
    "category": "Accelerated computing",
    "gpuNum": 1,
    "hideHardwareSpecs": false,
    "memoryGiB": 16,
    "name": "ml.g4dn.xlarge",
    "vcpuNum": 4
   },
   {
    "_defaultOrder": 30,
    "_isFastLaunch": false,
    "category": "Accelerated computing",
    "gpuNum": 1,
    "hideHardwareSpecs": false,
    "memoryGiB": 32,
    "name": "ml.g4dn.2xlarge",
    "vcpuNum": 8
   },
   {
    "_defaultOrder": 31,
    "_isFastLaunch": false,
    "category": "Accelerated computing",
    "gpuNum": 1,
    "hideHardwareSpecs": false,
    "memoryGiB": 64,
    "name": "ml.g4dn.4xlarge",
    "vcpuNum": 16
   },
   {
    "_defaultOrder": 32,
    "_isFastLaunch": false,
    "category": "Accelerated computing",
    "gpuNum": 1,
    "hideHardwareSpecs": false,
    "memoryGiB": 128,
    "name": "ml.g4dn.8xlarge",
    "vcpuNum": 32
   },
   {
    "_defaultOrder": 33,
    "_isFastLaunch": false,
    "category": "Accelerated computing",
    "gpuNum": 4,
    "hideHardwareSpecs": false,
    "memoryGiB": 192,
    "name": "ml.g4dn.12xlarge",
    "vcpuNum": 48
   },
   {
    "_defaultOrder": 34,
    "_isFastLaunch": false,
    "category": "Accelerated computing",
    "gpuNum": 1,
    "hideHardwareSpecs": false,
    "memoryGiB": 256,
    "name": "ml.g4dn.16xlarge",
    "vcpuNum": 64
   },
   {
    "_defaultOrder": 35,
    "_isFastLaunch": false,
    "category": "Accelerated computing",
    "gpuNum": 1,
    "hideHardwareSpecs": false,
    "memoryGiB": 61,
    "name": "ml.p3.2xlarge",
    "vcpuNum": 8
   },
   {
    "_defaultOrder": 36,
    "_isFastLaunch": false,
    "category": "Accelerated computing",
    "gpuNum": 4,
    "hideHardwareSpecs": false,
    "memoryGiB": 244,
    "name": "ml.p3.8xlarge",
    "vcpuNum": 32
   },
   {
    "_defaultOrder": 37,
    "_isFastLaunch": false,
    "category": "Accelerated computing",
    "gpuNum": 8,
    "hideHardwareSpecs": false,
    "memoryGiB": 488,
    "name": "ml.p3.16xlarge",
    "vcpuNum": 64
   },
   {
    "_defaultOrder": 38,
    "_isFastLaunch": false,
    "category": "Accelerated computing",
    "gpuNum": 8,
    "hideHardwareSpecs": false,
    "memoryGiB": 768,
    "name": "ml.p3dn.24xlarge",
    "vcpuNum": 96
   },
   {
    "_defaultOrder": 39,
    "_isFastLaunch": false,
    "category": "Memory Optimized",
    "gpuNum": 0,
    "hideHardwareSpecs": false,
    "memoryGiB": 16,
    "name": "ml.r5.large",
    "vcpuNum": 2
   },
   {
    "_defaultOrder": 40,
    "_isFastLaunch": false,
    "category": "Memory Optimized",
    "gpuNum": 0,
    "hideHardwareSpecs": false,
    "memoryGiB": 32,
    "name": "ml.r5.xlarge",
    "vcpuNum": 4
   },
   {
    "_defaultOrder": 41,
    "_isFastLaunch": false,
    "category": "Memory Optimized",
    "gpuNum": 0,
    "hideHardwareSpecs": false,
    "memoryGiB": 64,
    "name": "ml.r5.2xlarge",
    "vcpuNum": 8
   },
   {
    "_defaultOrder": 42,
    "_isFastLaunch": false,
    "category": "Memory Optimized",
    "gpuNum": 0,
    "hideHardwareSpecs": false,
    "memoryGiB": 128,
    "name": "ml.r5.4xlarge",
    "vcpuNum": 16
   },
   {
    "_defaultOrder": 43,
    "_isFastLaunch": false,
    "category": "Memory Optimized",
    "gpuNum": 0,
    "hideHardwareSpecs": false,
    "memoryGiB": 256,
    "name": "ml.r5.8xlarge",
    "vcpuNum": 32
   },
   {
    "_defaultOrder": 44,
    "_isFastLaunch": false,
    "category": "Memory Optimized",
    "gpuNum": 0,
    "hideHardwareSpecs": false,
    "memoryGiB": 384,
    "name": "ml.r5.12xlarge",
    "vcpuNum": 48
   },
   {
    "_defaultOrder": 45,
    "_isFastLaunch": false,
    "category": "Memory Optimized",
    "gpuNum": 0,
    "hideHardwareSpecs": false,
    "memoryGiB": 512,
    "name": "ml.r5.16xlarge",
    "vcpuNum": 64
   },
   {
    "_defaultOrder": 46,
    "_isFastLaunch": false,
    "category": "Memory Optimized",
    "gpuNum": 0,
    "hideHardwareSpecs": false,
    "memoryGiB": 768,
    "name": "ml.r5.24xlarge",
    "vcpuNum": 96
   },
   {
    "_defaultOrder": 47,
    "_isFastLaunch": false,
    "category": "Accelerated computing",
    "gpuNum": 1,
    "hideHardwareSpecs": false,
    "memoryGiB": 16,
    "name": "ml.g5.xlarge",
    "vcpuNum": 4
   },
   {
    "_defaultOrder": 48,
    "_isFastLaunch": false,
    "category": "Accelerated computing",
    "gpuNum": 1,
    "hideHardwareSpecs": false,
    "memoryGiB": 32,
    "name": "ml.g5.2xlarge",
    "vcpuNum": 8
   },
   {
    "_defaultOrder": 49,
    "_isFastLaunch": false,
    "category": "Accelerated computing",
    "gpuNum": 1,
    "hideHardwareSpecs": false,
    "memoryGiB": 64,
    "name": "ml.g5.4xlarge",
    "vcpuNum": 16
   },
   {
    "_defaultOrder": 50,
    "_isFastLaunch": false,
    "category": "Accelerated computing",
    "gpuNum": 1,
    "hideHardwareSpecs": false,
    "memoryGiB": 128,
    "name": "ml.g5.8xlarge",
    "vcpuNum": 32
   },
   {
    "_defaultOrder": 51,
    "_isFastLaunch": false,
    "category": "Accelerated computing",
    "gpuNum": 1,
    "hideHardwareSpecs": false,
    "memoryGiB": 256,
    "name": "ml.g5.16xlarge",
    "vcpuNum": 64
   },
   {
    "_defaultOrder": 52,
    "_isFastLaunch": false,
    "category": "Accelerated computing",
    "gpuNum": 4,
    "hideHardwareSpecs": false,
    "memoryGiB": 192,
    "name": "ml.g5.12xlarge",
    "vcpuNum": 48
   },
   {
    "_defaultOrder": 53,
    "_isFastLaunch": false,
    "category": "Accelerated computing",
    "gpuNum": 4,
    "hideHardwareSpecs": false,
    "memoryGiB": 384,
    "name": "ml.g5.24xlarge",
    "vcpuNum": 96
   },
   {
    "_defaultOrder": 54,
    "_isFastLaunch": false,
    "category": "Accelerated computing",
    "gpuNum": 8,
    "hideHardwareSpecs": false,
    "memoryGiB": 768,
    "name": "ml.g5.48xlarge",
    "vcpuNum": 192
   },
   {
    "_defaultOrder": 55,
    "_isFastLaunch": false,
    "category": "Accelerated computing",
    "gpuNum": 8,
    "hideHardwareSpecs": false,
    "memoryGiB": 1152,
    "name": "ml.p4d.24xlarge",
    "vcpuNum": 96
   },
   {
    "_defaultOrder": 56,
    "_isFastLaunch": false,
    "category": "Accelerated computing",
    "gpuNum": 8,
    "hideHardwareSpecs": false,
    "memoryGiB": 1152,
    "name": "ml.p4de.24xlarge",
    "vcpuNum": 96
   },
   {
    "_defaultOrder": 57,
    "_isFastLaunch": false,
    "category": "Accelerated computing",
    "gpuNum": 0,
    "hideHardwareSpecs": false,
    "memoryGiB": 32,
    "name": "ml.trn1.2xlarge",
    "vcpuNum": 8
   },
   {
    "_defaultOrder": 58,
    "_isFastLaunch": false,
    "category": "Accelerated computing",
    "gpuNum": 0,
    "hideHardwareSpecs": false,
    "memoryGiB": 512,
    "name": "ml.trn1.32xlarge",
    "vcpuNum": 128
   },
   {
    "_defaultOrder": 59,
    "_isFastLaunch": false,
    "category": "Accelerated computing",
    "gpuNum": 0,
    "hideHardwareSpecs": false,
    "memoryGiB": 512,
    "name": "ml.trn1n.32xlarge",
    "vcpuNum": 128
   }
  ],
  "instance_type": "ml.t3.medium",
  "kernelspec": {
   "display_name": "Python 3 (Data Science 3.0)",
   "language": "python",
   "name": "python3__SAGEMAKER_INTERNAL__arn:aws:sagemaker:us-east-1:081325390199:image/sagemaker-data-science-310-v1"
  },
  "language_info": {
   "codemirror_mode": {
    "name": "ipython",
    "version": 3
   },
   "file_extension": ".py",
   "mimetype": "text/x-python",
   "name": "python",
   "nbconvert_exporter": "python",
   "pygments_lexer": "ipython3",
   "version": "3.10.6"
  }
 },
 "nbformat": 4,
 "nbformat_minor": 5
}
